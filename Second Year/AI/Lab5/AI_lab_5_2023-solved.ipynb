{
 "cells": [
  {
   "cell_type": "markdown",
   "id": "b8210b19",
   "metadata": {},
   "source": [
    "## A.I. Assignment 5\n",
    "\n",
    "## Learning Goals\n",
    "\n",
    "By the end of this lab, you should be able to:\n",
    "* Get more familiar with tensors in pytorch \n",
    "* Create a simple multilayer perceptron model with pytorch\n",
    "* Visualise the parameters\n",
    "\n",
    "\n",
    "### Task\n",
    "\n",
    "Build a fully connected feed forward network that adds two bits. Determine the a propper achitecture for this network (what database you use for this problem? how many layers? how many neurons on each layer? what is the activation function? what is the loss function? etc)\n",
    "\n",
    "Create at least 3 such networks and compare their performance (how accurate they are?, how farst they are trained to get at 1 accuracy?)\n",
    "\n",
    "Display for the best one the weights for each layer.\n"
   ]
  },
  {
   "cell_type": "code",
   "execution_count": 80,
   "id": "e3614e5f",
   "metadata": {},
   "outputs": [],
   "source": [
    "import torch\n",
    "import torch.nn as nn\n",
    "from collections import OrderedDict\n"
   ]
  },
  {
   "cell_type": "code",
   "execution_count": 82,
   "id": "5ee7e7d7",
   "metadata": {},
   "outputs": [],
   "source": [
    "# your code here\n",
    "#model1 = nn.Sequential(OrderedDict([\n",
    "#    ('hidden', nn.\n",
    "#]))\n",
    "\n",
    "model1 = nn.Sequential(OrderedDict([\n",
    "    ('hidden', nn.Linear(2, 4)),  # Input layer with 2 neurons, hidden layer with 4 neurons\n",
    "    ('activation', nn.ReLU()),   # Activation function\n",
    "    ('output', nn.Linear(4, 2)),  # Output layer with 1 neuron\n",
    "    ('sigmoid', nn.Sigmoid()) \n",
    "]))"
   ]
  },
  {
   "cell_type": "code",
   "execution_count": 84,
   "id": "665ae958",
   "metadata": {},
   "outputs": [
    {
     "name": "stdout",
     "output_type": "stream",
     "text": [
      "Sequential(\n",
      "  (hidden): Linear(in_features=2, out_features=4, bias=True)\n",
      "  (activation): ReLU()\n",
      "  (output): Linear(in_features=4, out_features=2, bias=True)\n",
      "  (sigmoid): Sigmoid()\n",
      ")\n"
     ]
    }
   ],
   "source": [
    "print(model1)"
   ]
  },
  {
   "cell_type": "code",
   "execution_count": 86,
   "id": "e26f0d3e",
   "metadata": {
    "scrolled": true
   },
   "outputs": [
    {
     "name": "stdout",
     "output_type": "stream",
     "text": [
      "tensor([[0., 0.],\n",
      "        [0., 1.],\n",
      "        [1., 0.],\n",
      "        [1., 1.]])\n"
     ]
    }
   ],
   "source": [
    "# your code here\n",
    "#data_in = torch.tensor( ...\n",
    "data_in = torch.tensor([\n",
    "    [0, 0],  \n",
    "    [0, 1],  \n",
    "    [1, 0],  \n",
    "    [1, 1]   \n",
    "], dtype=torch.float32)\n",
    "print(data_in)"
   ]
  },
  {
   "cell_type": "code",
   "execution_count": 88,
   "id": "4fb16bbc",
   "metadata": {},
   "outputs": [
    {
     "name": "stdout",
     "output_type": "stream",
     "text": [
      "tensor([[0., 0.],\n",
      "        [1., 0.],\n",
      "        [1., 0.],\n",
      "        [0., 1.]])\n"
     ]
    }
   ],
   "source": [
    "# your code here\n",
    "# data_target = torch.tensor( ...\n",
    "data_target = torch.tensor([\n",
    "    [0, 0],  # 0 + 0 = 0 (sum, carry)\n",
    "    [1, 0],  # 0 + 1 = 1\n",
    "    [1, 0],  # 1 + 0 = 1\n",
    "    [0, 1]   # 1 + 1 = 10\n",
    "], dtype=torch.float32)\n",
    "print(data_target)"
   ]
  },
  {
   "cell_type": "code",
   "execution_count": 90,
   "id": "69d920ed",
   "metadata": {},
   "outputs": [],
   "source": [
    "# your code here\n",
    "# criterion = \n",
    "# optimizer = \n",
    "criterion = nn.BCELoss()\n",
    "optimizer = torch.optim.SGD(model1.parameters(), lr=0.1)\n"
   ]
  },
  {
   "cell_type": "code",
   "execution_count": 92,
   "id": "8323e0b0-ac08-46d9-b1f5-9b951d69f019",
   "metadata": {},
   "outputs": [],
   "source": [
    "# your code here\n",
    "# Train the model\n",
    "def train_model(model, X, y, num_epoch=10000, lr=0.1):\n",
    "    for epoch in range(num_epoch):\n",
    "        outputs = model(X)\n",
    "        loss = criterion(outputs, y)\n",
    "\n",
    "        optimizer.zero_grad()\n",
    "        loss.backward()\n",
    "        optimizer.step()\n",
    "\n",
    "        if (epoch+1) % 500 == 0 : \n",
    "            print(f'Epoch [{epoch+1} / {num_epoch}], Loss: {loss.item():.4f}')"
   ]
  },
  {
   "cell_type": "code",
   "execution_count": 94,
   "id": "dff3ec1a",
   "metadata": {},
   "outputs": [
    {
     "name": "stdout",
     "output_type": "stream",
     "text": [
      "Epoch [500 / 10000], Loss: 0.2928\n",
      "Epoch [1000 / 10000], Loss: 0.0782\n",
      "Epoch [1500 / 10000], Loss: 0.0385\n",
      "Epoch [2000 / 10000], Loss: 0.0246\n",
      "Epoch [2500 / 10000], Loss: 0.0179\n",
      "Epoch [3000 / 10000], Loss: 0.0139\n",
      "Epoch [3500 / 10000], Loss: 0.0114\n",
      "Epoch [4000 / 10000], Loss: 0.0096\n",
      "Epoch [4500 / 10000], Loss: 0.0082\n",
      "Epoch [5000 / 10000], Loss: 0.0072\n",
      "Epoch [5500 / 10000], Loss: 0.0064\n",
      "Epoch [6000 / 10000], Loss: 0.0058\n",
      "Epoch [6500 / 10000], Loss: 0.0052\n",
      "Epoch [7000 / 10000], Loss: 0.0048\n",
      "Epoch [7500 / 10000], Loss: 0.0044\n",
      "Epoch [8000 / 10000], Loss: 0.0041\n",
      "Epoch [8500 / 10000], Loss: 0.0038\n",
      "Epoch [9000 / 10000], Loss: 0.0036\n",
      "Epoch [9500 / 10000], Loss: 0.0034\n",
      "Epoch [10000 / 10000], Loss: 0.0032\n"
     ]
    }
   ],
   "source": [
    "# your code here\n",
    "# visualize the resuts\n",
    "train_model(model1, data_in, data_target)"
   ]
  },
  {
   "cell_type": "code",
   "execution_count": 96,
   "id": "c1a7518b",
   "metadata": {},
   "outputs": [
    {
     "name": "stdout",
     "output_type": "stream",
     "text": [
      "hidden.weight: \n",
      "tensor([[-3.4604,  3.4590],\n",
      "        [ 2.5858, -3.6686],\n",
      "        [-2.2770, -1.2306],\n",
      "        [-0.2663, -0.0090]])\n",
      "\n",
      "hidden.bias: \n",
      "tensor([ 3.1361e-04,  1.0817e+00,  2.7149e+00, -1.8050e-01])\n",
      "\n",
      "output.weight: \n",
      "tensor([[ 4.2353,  3.3460, -2.1333, -0.3325],\n",
      "        [-2.2516, -3.0765, -3.0728, -0.0635]])\n",
      "\n",
      "output.bias: \n",
      "tensor([-4.6086,  4.5421])\n",
      "\n"
     ]
    }
   ],
   "source": [
    "# your code here\n",
    "# print model wights\n",
    "for name, param in model1.named_parameters():  \n",
    "    print(f\"{name}: \\n{param.data}\\n\")"
   ]
  },
  {
   "cell_type": "code",
   "execution_count": 98,
   "id": "ffb93fee-0c9a-4c67-9627-0084daab5959",
   "metadata": {},
   "outputs": [
    {
     "name": "stdout",
     "output_type": "stream",
     "text": [
      "Accuracy of Model 1: 1.0000\n"
     ]
    }
   ],
   "source": [
    "def test_model(model, X, y):\n",
    "    with torch.no_grad():\n",
    "        outputs = model(X)\n",
    "        predicted = (outputs > 0.5).float()  # Convert output to 0 or 1 (as the sigmoid output is between 0 and 1)\n",
    "        correct = (predicted == y).float()  # Compare predicted output with target\n",
    "        accuracy = correct.sum() / correct.numel()  # Calculate accuracy\n",
    "        return accuracy\n",
    "\n",
    "accuracy = test_model(model1, data_in, data_target)\n",
    "print(f\"Accuracy of Model 1: {accuracy:.4f}\")"
   ]
  },
  {
   "cell_type": "code",
   "execution_count": 191,
   "id": "4cdf09ba",
   "metadata": {},
   "outputs": [
    {
     "name": "stdout",
     "output_type": "stream",
     "text": [
      "Epoch [500 / 10000], Loss: 0.6430\n",
      "Epoch [1000 / 10000], Loss: 0.6257\n",
      "Epoch [1500 / 10000], Loss: 0.6216\n",
      "Epoch [2000 / 10000], Loss: 0.6185\n",
      "Epoch [2500 / 10000], Loss: 0.6123\n",
      "Epoch [3000 / 10000], Loss: 0.6006\n",
      "Epoch [3500 / 10000], Loss: 0.5874\n",
      "Epoch [4000 / 10000], Loss: 0.5719\n",
      "Epoch [4500 / 10000], Loss: 0.5559\n",
      "Epoch [5000 / 10000], Loss: 0.5418\n",
      "Epoch [5500 / 10000], Loss: 0.5307\n",
      "Epoch [6000 / 10000], Loss: 0.5222\n",
      "Epoch [6500 / 10000], Loss: 0.5150\n",
      "Epoch [7000 / 10000], Loss: 0.5082\n",
      "Epoch [7500 / 10000], Loss: 0.5008\n",
      "Epoch [8000 / 10000], Loss: 0.4923\n",
      "Epoch [8500 / 10000], Loss: 0.4822\n",
      "Epoch [9000 / 10000], Loss: 0.4705\n",
      "Epoch [9500 / 10000], Loss: 0.4578\n",
      "Epoch [10000 / 10000], Loss: 0.4453\n",
      "hidden1.weight: \n",
      "tensor([[-0.6867,  0.2673],\n",
      "        [ 1.2265, -1.7485],\n",
      "        [-0.5727, -0.6017]])\n",
      "\n",
      "hidden1.bias: \n",
      "tensor([-0.5518,  0.5141,  0.6015])\n",
      "\n",
      "hidden2.weight: \n",
      "tensor([[-0.2939,  1.7980, -0.6066],\n",
      "        [ 0.4978, -1.0364, -0.7213]])\n",
      "\n",
      "hidden2.bias: \n",
      "tensor([0.4998, 0.9667])\n",
      "\n",
      "output.weight: \n",
      "tensor([[ 0.8351,  0.6122],\n",
      "        [-1.7648,  1.4315]])\n",
      "\n",
      "output.bias: \n",
      "tensor([-1.2289, -0.5479])\n",
      "\n",
      "Accuracy of Model 2: 0.7500\n"
     ]
    }
   ],
   "source": [
    "# Model 2: 2 hidden layers \n",
    "\n",
    "model2 = nn.Sequential(OrderedDict([\n",
    "    ('hidden1', nn.Linear(2, 3)),  # Input layer: 2 neurons, first hidden layer: 3 neurons\n",
    "    ('activation1', nn.ReLU()),    # ReLU activation function for the first hidden layer\n",
    "    ('hidden2', nn.Linear(3, 2)),  # Second hidden layer: 3 neurons, output layer: 2 neurons\n",
    "    ('activation2', nn.ReLU()),    # ReLU activation function for the second hidden layer\n",
    "    ('output', nn.Linear(2, 2)),   # Second hidden layer: 2 neurons, output layer: 2 neurons (sum and carry)\n",
    "    ('sigmoid', nn.Sigmoid())      # Sigmoid activation function to get output between 0 and 1\n",
    "]))\n",
    "\n",
    " #Input data (binary addition task)\n",
    "data_in = torch.tensor([\n",
    "    [0, 0],  \n",
    "    [0, 1],  \n",
    "    [1, 0],  \n",
    "    [1, 1]   \n",
    "], dtype=torch.float32)\n",
    "\n",
    "# Target data (binary addition: sum and carry)\n",
    "data_target = torch.tensor([\n",
    "    [0, 0],  # 0 + 0 = 0 (sum, carry)\n",
    "    [1, 0],  # 0 + 1 = 1 (sum, carry)\n",
    "    [1, 0],  # 1 + 0 = 1 (sum, carry)\n",
    "    [0, 1]   # 1 + 1 = 10 (sum, carry)\n",
    "], dtype=torch.float32)\n",
    "\n",
    "criterion = nn.BCELoss() \n",
    "optimizer = torch.optim.SGD(model2.parameters(), lr=0.01)\n",
    "\n",
    "def train_model(model, X, y, num_epoch=10000, lr=0.01):\n",
    "    for epoch in range(num_epoch):\n",
    "        outputs = model(X)\n",
    "        loss = criterion(outputs, y)\n",
    "\n",
    "        optimizer.zero_grad()\n",
    "        loss.backward()\n",
    "        optimizer.step()\n",
    "\n",
    "        if (epoch+1) % 500 == 0 : \n",
    "            print(f'Epoch [{epoch+1} / {num_epoch}], Loss: {loss.item():.4f}')\n",
    "\n",
    "train_model(model2, data_in, data_target)\n",
    "\n",
    "\n",
    "#print the model weights\n",
    "for name, param in model2.named_parameters():\n",
    "    print(f\"{name}: \\n{param.data}\\n\")\n",
    "\n",
    "\n",
    "def test_model(model, X, y):\n",
    "    with torch.no_grad():\n",
    "        outputs = model(X)\n",
    "        predicted = (outputs > 0.5).float()  # Convert output to 0 or 1 (as the sigmoid output is between 0 and 1)\n",
    "        correct = (predicted == y).float()  # Compare predicted output with target\n",
    "        accuracy = correct.sum() / correct.numel()  # Calculate accuracy\n",
    "        return accuracy\n",
    "\n",
    "accuracy = test_model(model2, data_in, data_target)\n",
    "print(f\"Accuracy of Model 2: {accuracy:.4f}\")"
   ]
  },
  {
   "cell_type": "code",
   "execution_count": 190,
   "id": "d0bea66c",
   "metadata": {},
   "outputs": [
    {
     "name": "stdout",
     "output_type": "stream",
     "text": [
      "Epoch [500 / 10000], Loss: 0.6604\n",
      "Epoch [1000 / 10000], Loss: 0.6380\n",
      "Epoch [1500 / 10000], Loss: 0.6312\n",
      "Epoch [2000 / 10000], Loss: 0.6290\n",
      "Epoch [2500 / 10000], Loss: 0.6282\n",
      "Epoch [3000 / 10000], Loss: 0.6279\n",
      "Epoch [3500 / 10000], Loss: 0.6278\n",
      "Epoch [4000 / 10000], Loss: 0.6278\n",
      "Epoch [4500 / 10000], Loss: 0.6277\n",
      "Epoch [5000 / 10000], Loss: 0.6277\n",
      "Epoch [5500 / 10000], Loss: 0.6277\n",
      "Epoch [6000 / 10000], Loss: 0.6277\n",
      "Epoch [6500 / 10000], Loss: 0.6277\n",
      "Epoch [7000 / 10000], Loss: 0.6277\n",
      "Epoch [7500 / 10000], Loss: 0.6277\n",
      "Epoch [8000 / 10000], Loss: 0.6277\n",
      "Epoch [8500 / 10000], Loss: 0.6277\n",
      "Epoch [9000 / 10000], Loss: 0.6277\n",
      "Epoch [9500 / 10000], Loss: 0.6277\n",
      "Epoch [10000 / 10000], Loss: 0.6277\n",
      "hidden1.weight: \n",
      "tensor([[-0.3257, -0.1885],\n",
      "        [ 0.3922, -0.0351],\n",
      "        [ 0.3660,  0.1609],\n",
      "        [ 0.2310, -0.1298]])\n",
      "\n",
      "hidden1.bias: \n",
      "tensor([ 0.0416,  0.5056, -0.3411, -0.2641])\n",
      "\n",
      "hidden2.weight: \n",
      "tensor([[-0.2102, -0.2194, -0.3196,  0.2526],\n",
      "        [-0.1988,  0.0425, -0.4157,  0.1124],\n",
      "        [-0.3919, -0.2406,  0.1385, -0.4700]])\n",
      "\n",
      "hidden2.bias: \n",
      "tensor([-0.2253, -0.3554, -0.0768])\n",
      "\n",
      "hidden3.weight: \n",
      "tensor([[-0.4062,  0.0407,  0.1377],\n",
      "        [ 0.3767, -0.3870,  0.4690]])\n",
      "\n",
      "hidden3.bias: \n",
      "tensor([-0.0003,  0.1818])\n",
      "\n",
      "output.weight: \n",
      "tensor([[ 0.2212, -0.6142],\n",
      "        [ 0.6421, -0.2180]])\n",
      "\n",
      "output.bias: \n",
      "tensor([ 0.1117, -1.0589])\n",
      "\n",
      "Accuracy of Model 3: 0.6250\n"
     ]
    }
   ],
   "source": [
    "#Model 3: 3 hidden layers \n",
    "\n",
    "model3 = nn.Sequential(OrderedDict([\n",
    "    ('hidden1', nn.Linear(2, 4)),  # Input layer: 2 neurons, first hidden layer: 4 neurons\n",
    "    ('activation1', nn.ReLU()),    # ReLU activation function for the first hidden layer\n",
    "    ('hidden2', nn.Linear(4, 3)),  # Second hidden layer: 4 neurons, third hidden layer: 3 neurons\n",
    "    ('activation2', nn.ReLU()),    # ReLU activation function for the second hidden layer\n",
    "    ('hidden3', nn.Linear(3, 2)),  # Third hidden layer: 3 neurons, output layer: 2 neurons\n",
    "    ('activation3', nn.ReLU()),    # ReLU activation function for the third hidden layer\n",
    "    ('output', nn.Linear(2, 2)),   # Output layer: 2 neurons (sum and carry)\n",
    "    ('sigmoid', nn.Sigmoid())      # Sigmoid activation function to get output between 0 and 1\n",
    "]))\n",
    "\n",
    "\n",
    "# Input data (binary addition task)\n",
    "data_in = torch.tensor([\n",
    "    [0, 0],  \n",
    "    [0, 1],  \n",
    "    [1, 0],  \n",
    "    [1, 1]   \n",
    "], dtype=torch.float32)\n",
    "\n",
    "# Target data (binary addition: sum and carry)\n",
    "data_target = torch.tensor([\n",
    "    [0, 0],  # 0 + 0 = 0 (sum, carry)\n",
    "    [1, 0],  # 0 + 1 = 1 (sum, carry)\n",
    "    [1, 0],  # 1 + 0 = 1 (sum, carry)\n",
    "    [0, 1]   # 1 + 1 = 10 (sum, carry)\n",
    "], dtype=torch.float32)\n",
    "\n",
    "criterion = nn.BCELoss() \n",
    "optimizer = torch.optim.SGD(model3.parameters(), lr=0.01)\n",
    "\n",
    "def train_model(model, X, y, num_epoch=10000, lr=0.01):\n",
    "    for epoch in range(num_epoch):\n",
    "        outputs = model(X)\n",
    "        loss = criterion(outputs, y)\n",
    "\n",
    "        optimizer.zero_grad()\n",
    "        loss.backward()\n",
    "        optimizer.step()\n",
    "\n",
    "        if (epoch+1) % 500 == 0 : \n",
    "            print(f'Epoch [{epoch+1} / {num_epoch}], Loss: {loss.item():.4f}')\n",
    "\n",
    "train_model(model3, data_in, data_target)\n",
    "\n",
    "#Print the model weights\n",
    "for name, param in model3.named_parameters():\n",
    "    print(f\"{name}: \\n{param.data}\\n\")\n",
    "\n",
    "\n",
    "\n",
    "def test_model(model, X, y):\n",
    "    with torch.no_grad():\n",
    "        outputs = model(X)\n",
    "        predicted = (outputs > 0.5).float()  # Convert output to 0 or 1 (as the sigmoid output is between 0 and 1)\n",
    "        correct = (predicted == y).float()  # Compare predicted output with target\n",
    "        accuracy = correct.sum() / correct.numel()  # Calculate accuracy\n",
    "        return accuracy\n",
    "\n",
    "accuracy = test_model(model3, data_in, data_target)\n",
    "print(f\"Accuracy of Model 3: {accuracy:.4f}\")"
   ]
  },
  {
   "cell_type": "code",
   "execution_count": null,
   "id": "e29c65a2",
   "metadata": {},
   "outputs": [],
   "source": []
  }
 ],
 "metadata": {
  "kernelspec": {
   "display_name": "Python [conda env:base] *",
   "language": "python",
   "name": "conda-base-py"
  },
  "language_info": {
   "codemirror_mode": {
    "name": "ipython",
    "version": 3
   },
   "file_extension": ".py",
   "mimetype": "text/x-python",
   "name": "python",
   "nbconvert_exporter": "python",
   "pygments_lexer": "ipython3",
   "version": "3.12.7"
  }
 },
 "nbformat": 4,
 "nbformat_minor": 5
}
