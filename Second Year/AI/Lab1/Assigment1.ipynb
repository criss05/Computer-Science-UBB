{
 "cells": [
  {
   "cell_type": "code",
   "execution_count": 35,
   "id": "efd2f49a-bd59-49f8-9bdb-2d851dc34258",
   "metadata": {},
   "outputs": [
    {
     "data": {
      "text/plain": [
       "0"
      ]
     },
     "execution_count": 35,
     "metadata": {},
     "output_type": "execute_result"
    }
   ],
   "source": [
    "import random\n",
    "def spinner(probabilityDistribution):\n",
    "    cumulativeDistribution = []\n",
    "    cumulativeDistributionSum = 0\n",
    "    for p in probabilityDistribution:\n",
    "        cumulativeDistributionSum += p\n",
    "        cumulativeDistribution.append(cumulativeDistributionSum)\n",
    "    randomInteger = random.random()\n",
    "    index = 0\n",
    "    for p in cumulativeDistribution:\n",
    "        if randomInteger < p:\n",
    "            return index\n",
    "        index += 1\n",
    "\n",
    "\n",
    "spinner([0.2, 0.5, 0.1, 0.2])"
   ]
  },
  {
   "cell_type": "code",
   "execution_count": 44,
   "id": "cdec5a41-646c-40a4-9390-878f3baefbf5",
   "metadata": {},
   "outputs": [
    {
     "data": {
      "text/plain": [
       "0"
      ]
     },
     "execution_count": 44,
     "metadata": {},
     "output_type": "execute_result"
    }
   ],
   "source": [
    "import numpy as np\n",
    "def spinner2(probabilityDistribution):\n",
    "    return np.random.choice(len(probabilityDistribution), p=probabilityDistribution)\n",
    "\n",
    "spinner2([0.2, 0.5, 0.1, 0.2])"
   ]
  },
  {
   "cell_type": "code",
   "execution_count": 52,
   "id": "c32b8e74-23d2-4f6c-ab5a-433b4c9decef",
   "metadata": {},
   "outputs": [
    {
     "data": {
      "text/plain": [
       "0"
      ]
     },
     "execution_count": 52,
     "metadata": {},
     "output_type": "execute_result"
    }
   ],
   "source": [
    "def spinner3(listNumber):\n",
    "    probabilityDistribution = []\n",
    "    totalAngle = sum(listNumber)\n",
    "    for angle in listNumber:\n",
    "        probabilityDistribution.append(round(angle/totalAngle, 4))\n",
    "    return spinner(probabilityDistribution)\n",
    "\n",
    "spinner3([45, 85, 70, 150])"
   ]
  },
  {
   "cell_type": "code",
   "execution_count": 4,
   "id": "f33e1a4e-2f6b-4dc0-89df-a120028f015f",
   "metadata": {},
   "outputs": [
    {
     "data": {
      "text/plain": [
       "0.275956"
      ]
     },
     "execution_count": 4,
     "metadata": {},
     "output_type": "execute_result"
    }
   ],
   "source": [
    "import random\n",
    "import math\n",
    "def monteCarlo(n):\n",
    "    counter = 0\n",
    "    for _ in range(n):\n",
    "        x = random.randint(-50, 50)\n",
    "        y = random.randint(-50, 50)\n",
    "        distance = math.sqrt(x**2 + y**2)\n",
    "        if distance <= 30:\n",
    "            counter += 1\n",
    "    return counter/n\n",
    "\n",
    "monteCarlo(1000000)\n",
    "\n",
    "\n",
    "# Mathematic solution\n",
    "# Cilinder Area = 2827.43338823 (pi * 30^2) \n",
    "# Square Area = 10000 (100*100)\n",
    "# Probability: Cilinder Area / Square Area = 0.28274333882 \n",
    "# The aswers are almost equal"
   ]
  },
  {
   "cell_type": "code",
   "execution_count": null,
   "id": "f2824f8d-1147-403e-a511-677eca9a863d",
   "metadata": {},
   "outputs": [],
   "source": []
  }
 ],
 "metadata": {
  "kernelspec": {
   "display_name": "Python [conda env:base] *",
   "language": "python",
   "name": "conda-base-py"
  },
  "language_info": {
   "codemirror_mode": {
    "name": "ipython",
    "version": 3
   },
   "file_extension": ".py",
   "mimetype": "text/x-python",
   "name": "python",
   "nbconvert_exporter": "python",
   "pygments_lexer": "ipython3",
   "version": "3.12.7"
  }
 },
 "nbformat": 4,
 "nbformat_minor": 5
}
